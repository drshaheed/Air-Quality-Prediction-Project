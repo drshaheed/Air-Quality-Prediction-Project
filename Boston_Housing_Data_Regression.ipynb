{
  "nbformat": 4,
  "nbformat_minor": 0,
  "metadata": {
    "colab": {
      "provenance": [],
      "mount_file_id": "1ANfhP6CJgCJbR6OqZQa2odMShUJpI_X1",
      "authorship_tag": "ABX9TyN/2+jIjKMysiNBS747SNwL",
      "include_colab_link": true
    },
    "kernelspec": {
      "name": "python3",
      "display_name": "Python 3"
    },
    "language_info": {
      "name": "python"
    }
  },
  "cells": [
    {
      "cell_type": "markdown",
      "metadata": {
        "id": "view-in-github",
        "colab_type": "text"
      },
      "source": [
        "<a href=\"https://colab.research.google.com/github/drshaheed/Regression-Repo/blob/main/Boston_Housing_Data_Regression.ipynb\" target=\"_parent\"><img src=\"https://colab.research.google.com/assets/colab-badge.svg\" alt=\"Open In Colab\"/></a>"
      ]
    },
    {
      "cell_type": "code",
      "source": [
        "#Importing Dependencies\n",
        "import pandas as pd\n",
        "import numpy as np\n",
        "import seaborn as sns\n",
        "import matplotlib.pyplot as plt\n",
        "from sklearn.linear_model import LinearRegression\n",
        "from sklearn.model_selection import train_test_split\n",
        "from sklearn.metrics import mean_squared_error\n"
      ],
      "metadata": {
        "id": "iQrMlXok7pkd"
      },
      "execution_count": 4,
      "outputs": []
    },
    {
      "cell_type": "code",
      "source": [
        "# Load the Boston Housing dataset\n",
        "boston_dataset = ('/content/drive/MyDrive/Data Colab/Boston.csv')\n",
        "\n"
      ],
      "metadata": {
        "id": "dRFd4Wp-7ywy"
      },
      "execution_count": 6,
      "outputs": []
    },
    {
      "cell_type": "code",
      "source": [
        "# Convert the dataset into a pandas dataframe\n",
        "boston_dataframe = pd.DataFrame(boston_dataset.data, columns=boston_dataset.feature_names)\n",
        "\n"
      ],
      "metadata": {
        "id": "xkAi00sF72Xk"
      },
      "execution_count": null,
      "outputs": []
    },
    {
      "cell_type": "code",
      "source": [
        "# Add the target variable to the dataframe\n",
        "boston_dataframe['MEDV'] = boston_dataset.target"
      ],
      "metadata": {
        "id": "a7jxhBe1787h"
      },
      "execution_count": null,
      "outputs": []
    },
    {
      "cell_type": "code",
      "source": [
        "# Make predictions on the testing set\n",
        "y_pred = regressor.predict(X_test)"
      ],
      "metadata": {
        "id": "XaT3_G5-8DIF"
      },
      "execution_count": null,
      "outputs": []
    },
    {
      "cell_type": "code",
      "source": [
        "# Evaluate the performance of the model\n",
        "mse = mean_squared_error(y_test, y_pred)# Explore the dataset\n",
        "print(boston_dataframe.head())"
      ],
      "metadata": {
        "id": "d3RLfPGv8HDI"
      },
      "execution_count": null,
      "outputs": []
    },
    {
      "cell_type": "code",
      "source": [
        "# Visualize the correlation between variables\n",
        "sns.heatmap(boston_dataframe.corr(), annot=True, cmap='coolwarm')"
      ],
      "metadata": {
        "id": "7LicOMLs8KHz"
      },
      "execution_count": null,
      "outputs": []
    },
    {
      "cell_type": "code",
      "source": [
        "# Prepare the data for regression analysis\n",
        "X = boston_dataframe.drop('MEDV', axis=1)\n",
        "y = boston_dataframe['MEDV']"
      ],
      "metadata": {
        "id": "tvsVC1Pz8MKo"
      },
      "execution_count": null,
      "outputs": []
    },
    {
      "cell_type": "code",
      "source": [
        "# Split the data into training and testing sets\n",
        "X_train, X_test, y_train, y_test = train_test_split(X, y, test_size=0.3, random_state=0)"
      ],
      "metadata": {
        "id": "M_7KuZ3C8O0Z"
      },
      "execution_count": null,
      "outputs": []
    },
    {
      "cell_type": "code",
      "source": [
        "# Train a linear regression model\n",
        "regressor = LinearRegression()\n",
        "regressor.fit(X_train, y_train)\n",
        "\n",
        "rmse = np.sqrt(mse)\n",
        "print(\"Root Mean Squared Error: \", rmse)"
      ],
      "metadata": {
        "id": "72VPUjqy8RCz"
      },
      "execution_count": null,
      "outputs": []
    },
    {
      "cell_type": "code",
      "source": [
        "# Visualize the predicted vs. actual values\n",
        "plt.scatter(y_test, y_pred)\n",
        "plt.xlabel(\"Actual MEDV\")\n",
        "plt.ylabel(\"Predicted MEDV\")\n",
        "plt.title(\"Actual vs. Predicted MEDV\")\n",
        "plt.show()"
      ],
      "metadata": {
        "id": "JIcLzv9x8Tfm"
      },
      "execution_count": null,
      "outputs": []
    }
  ]
}